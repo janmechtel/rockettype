{
 "cells": [
  {
   "cell_type": "code",
   "execution_count": 72,
   "metadata": {},
   "outputs": [],
   "source": [
    "import pandas as pd\n",
    "#read the file\n",
    "df = pd.read_csv('outputs/key_log.txt', sep=\" \", encoding='latin-1')"
   ]
  },
  {
   "cell_type": "code",
   "execution_count": 73,
   "metadata": {},
   "outputs": [],
   "source": [
    "#convert https://exceptionshub.com/python-convert-unix-epoch-time-to-datetime-in-pandas.html\n",
    "from datetime import datetime, timedelta\n",
    "start = datetime(1970, 1, 1)  # Unix epoch start time\n",
    "df.time = df.time.apply(lambda x: start + timedelta(seconds=x))"
   ]
  },
  {
   "cell_type": "code",
   "execution_count": 74,
   "metadata": {},
   "outputs": [
    {
     "data": {
      "text/plain": [
       "0       2020-08-26 21:59:50.443632\n",
       "1       2020-08-26 21:59:50.511299\n",
       "2       2020-08-26 21:59:50.520729\n",
       "3       2020-08-26 21:59:50.828374\n",
       "4       2020-08-26 21:59:51.118113\n",
       "                   ...            \n",
       "27220   2020-08-29 18:34:18.578675\n",
       "27221   2020-08-29 18:34:18.678950\n",
       "27222   2020-08-29 18:34:21.898652\n",
       "27223   2020-08-29 18:34:22.088505\n",
       "27224   2020-08-29 18:34:22.459381\n",
       "Name: time, Length: 27225, dtype: datetime64[ns]"
      ]
     },
     "execution_count": 74,
     "metadata": {},
     "output_type": "execute_result"
    }
   ],
   "source": [
    "df.time"
   ]
  },
  {
   "cell_type": "code",
   "execution_count": 75,
   "metadata": {},
   "outputs": [
    {
     "data": {
      "text/html": [
       "<div>\n",
       "<style scoped>\n",
       "    .dataframe tbody tr th:only-of-type {\n",
       "        vertical-align: middle;\n",
       "    }\n",
       "\n",
       "    .dataframe tbody tr th {\n",
       "        vertical-align: top;\n",
       "    }\n",
       "\n",
       "    .dataframe thead th {\n",
       "        text-align: right;\n",
       "    }\n",
       "</style>\n",
       "<table border=\"1\" class=\"dataframe\">\n",
       "  <thead>\n",
       "    <tr style=\"text-align: right;\">\n",
       "      <th></th>\n",
       "      <th>time</th>\n",
       "      <th>delta</th>\n",
       "      <th>key</th>\n",
       "      <th>application</th>\n",
       "      <th>CPM</th>\n",
       "      <th>WPM</th>\n",
       "    </tr>\n",
       "  </thead>\n",
       "  <tbody>\n",
       "    <tr>\n",
       "      <th>0</th>\n",
       "      <td>2020-08-26 21:59:50.443632</td>\n",
       "      <td>811</td>\n",
       "      <td>'h'</td>\n",
       "      <td>NaN</td>\n",
       "      <td>73.982737</td>\n",
       "      <td>14.796547</td>\n",
       "    </tr>\n",
       "    <tr>\n",
       "      <th>1</th>\n",
       "      <td>2020-08-26 21:59:50.511299</td>\n",
       "      <td>67</td>\n",
       "      <td>'o'</td>\n",
       "      <td>NaN</td>\n",
       "      <td>895.522388</td>\n",
       "      <td>179.104478</td>\n",
       "    </tr>\n",
       "    <tr>\n",
       "      <th>2</th>\n",
       "      <td>2020-08-26 21:59:50.520729</td>\n",
       "      <td>9</td>\n",
       "      <td>'w'</td>\n",
       "      <td>NaN</td>\n",
       "      <td>6666.666667</td>\n",
       "      <td>1333.333333</td>\n",
       "    </tr>\n",
       "    <tr>\n",
       "      <th>3</th>\n",
       "      <td>2020-08-26 21:59:50.828374</td>\n",
       "      <td>307</td>\n",
       "      <td>Key.space</td>\n",
       "      <td>NaN</td>\n",
       "      <td>195.439739</td>\n",
       "      <td>39.087948</td>\n",
       "    </tr>\n",
       "    <tr>\n",
       "      <th>4</th>\n",
       "      <td>2020-08-26 21:59:51.118113</td>\n",
       "      <td>289</td>\n",
       "      <td>'n'</td>\n",
       "      <td>NaN</td>\n",
       "      <td>207.612457</td>\n",
       "      <td>41.522491</td>\n",
       "    </tr>\n",
       "    <tr>\n",
       "      <th>...</th>\n",
       "      <td>...</td>\n",
       "      <td>...</td>\n",
       "      <td>...</td>\n",
       "      <td>...</td>\n",
       "      <td>...</td>\n",
       "      <td>...</td>\n",
       "    </tr>\n",
       "    <tr>\n",
       "      <th>27220</th>\n",
       "      <td>2020-08-29 18:34:18.578675</td>\n",
       "      <td>919</td>\n",
       "      <td>Key.alt_l</td>\n",
       "      <td>PBIDesktop.exe</td>\n",
       "      <td>65.288357</td>\n",
       "      <td>13.057671</td>\n",
       "    </tr>\n",
       "    <tr>\n",
       "      <th>27221</th>\n",
       "      <td>2020-08-29 18:34:18.678950</td>\n",
       "      <td>100</td>\n",
       "      <td>Key.tab</td>\n",
       "      <td>PBIDesktop.exe</td>\n",
       "      <td>600.000000</td>\n",
       "      <td>120.000000</td>\n",
       "    </tr>\n",
       "    <tr>\n",
       "      <th>27222</th>\n",
       "      <td>2020-08-29 18:34:21.898652</td>\n",
       "      <td>3219</td>\n",
       "      <td>Key.shift</td>\n",
       "      <td>firefox.exe</td>\n",
       "      <td>18.639329</td>\n",
       "      <td>3.727866</td>\n",
       "    </tr>\n",
       "    <tr>\n",
       "      <th>27223</th>\n",
       "      <td>2020-08-29 18:34:22.088505</td>\n",
       "      <td>189</td>\n",
       "      <td>Key.enter</td>\n",
       "      <td>firefox.exe</td>\n",
       "      <td>317.460317</td>\n",
       "      <td>63.492063</td>\n",
       "    </tr>\n",
       "    <tr>\n",
       "      <th>27224</th>\n",
       "      <td>2020-08-29 18:34:22.459381</td>\n",
       "      <td>370</td>\n",
       "      <td>Key.enter</td>\n",
       "      <td>firefox.exe</td>\n",
       "      <td>162.162162</td>\n",
       "      <td>32.432432</td>\n",
       "    </tr>\n",
       "  </tbody>\n",
       "</table>\n",
       "<p>27225 rows × 6 columns</p>\n",
       "</div>"
      ],
      "text/plain": [
       "                            time  delta        key     application  \\\n",
       "0     2020-08-26 21:59:50.443632    811        'h'             NaN   \n",
       "1     2020-08-26 21:59:50.511299     67        'o'             NaN   \n",
       "2     2020-08-26 21:59:50.520729      9        'w'             NaN   \n",
       "3     2020-08-26 21:59:50.828374    307  Key.space             NaN   \n",
       "4     2020-08-26 21:59:51.118113    289        'n'             NaN   \n",
       "...                          ...    ...        ...             ...   \n",
       "27220 2020-08-29 18:34:18.578675    919  Key.alt_l  PBIDesktop.exe   \n",
       "27221 2020-08-29 18:34:18.678950    100    Key.tab  PBIDesktop.exe   \n",
       "27222 2020-08-29 18:34:21.898652   3219  Key.shift     firefox.exe   \n",
       "27223 2020-08-29 18:34:22.088505    189  Key.enter     firefox.exe   \n",
       "27224 2020-08-29 18:34:22.459381    370  Key.enter     firefox.exe   \n",
       "\n",
       "               CPM          WPM  \n",
       "0        73.982737    14.796547  \n",
       "1       895.522388   179.104478  \n",
       "2      6666.666667  1333.333333  \n",
       "3       195.439739    39.087948  \n",
       "4       207.612457    41.522491  \n",
       "...            ...          ...  \n",
       "27220    65.288357    13.057671  \n",
       "27221   600.000000   120.000000  \n",
       "27222    18.639329     3.727866  \n",
       "27223   317.460317    63.492063  \n",
       "27224   162.162162    32.432432  \n",
       "\n",
       "[27225 rows x 6 columns]"
      ]
     },
     "execution_count": 75,
     "metadata": {},
     "output_type": "execute_result"
    }
   ],
   "source": [
    "df['CPM'] = 60/(df['delta']/1000)\n",
    "df['WPM'] = df['CPM']/5\n",
    "df"
   ]
  },
  {
   "cell_type": "code",
   "execution_count": 61,
   "metadata": {},
   "outputs": [],
   "source": [
    "#remove 0 for delta and anything with a pause longer than 2 secs\n",
    "df = df.query('delta != 0 & delta < 2000')"
   ]
  },
  {
   "cell_type": "code",
   "execution_count": 62,
   "metadata": {},
   "outputs": [
    {
     "data": {
      "text/plain": [
       "70.58823529411765"
      ]
     },
     "execution_count": 62,
     "metadata": {},
     "output_type": "execute_result"
    }
   ],
   "source": [
    "df.WPM.median()"
   ]
  },
  {
   "cell_type": "code",
   "execution_count": 64,
   "metadata": {},
   "outputs": [
    {
     "data": {
      "text/plain": [
       "170.0"
      ]
     },
     "execution_count": 64,
     "metadata": {},
     "output_type": "execute_result"
    }
   ],
   "source": [
    "df.delta.median()"
   ]
  },
  {
   "cell_type": "code",
   "execution_count": 65,
   "metadata": {},
   "outputs": [
    {
     "name": "stderr",
     "output_type": "stream",
     "text": [
      "<ipython-input-65-6d467abf240d>:1: FutureWarning: DataFrame.mean and DataFrame.median with numeric_only=None will include datetime64 and datetime64tz columns in a future version.\n",
      "  df.median()\n"
     ]
    },
    {
     "data": {
      "text/plain": [
       "delta    170.000000\n",
       "CPM      352.941176\n",
       "WPM       70.588235\n",
       "dtype: float64"
      ]
     },
     "execution_count": 65,
     "metadata": {},
     "output_type": "execute_result"
    }
   ],
   "source": [
    "df.median()"
   ]
  },
  {
   "cell_type": "code",
   "execution_count": 77,
   "metadata": {},
   "outputs": [
    {
     "data": {
      "text/plain": [
       "time\n",
       "2020-08-26    70\n",
       "2020-08-27    63\n",
       "2020-08-28    71\n",
       "2020-08-29    75\n",
       "Name: WPM, dtype: int32"
      ]
     },
     "execution_count": 77,
     "metadata": {},
     "output_type": "execute_result"
    }
   ],
   "source": [
    "df.groupby([df.time.dt.date]).median().WPM.astype(int)"
   ]
  },
  {
   "cell_type": "code",
   "execution_count": null,
   "metadata": {},
   "outputs": [],
   "source": []
  }
 ],
 "metadata": {
  "kernelspec": {
   "display_name": "Python 3",
   "language": "python",
   "name": "python3"
  },
  "language_info": {
   "codemirror_mode": {
    "name": "ipython",
    "version": 3
   },
   "file_extension": ".py",
   "mimetype": "text/x-python",
   "name": "python",
   "nbconvert_exporter": "python",
   "pygments_lexer": "ipython3",
   "version": "3.8.5"
  }
 },
 "nbformat": 4,
 "nbformat_minor": 4
}
